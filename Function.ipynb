{
 "cells": [
  {
   "cell_type": "code",
   "execution_count": 3,
   "id": "df066f0b",
   "metadata": {},
   "outputs": [],
   "source": [
    "\n",
    "def add_num(name,num1, num2=6):\n",
    "    sum = num1 + num2\n",
    "    print(f\"{name} total is {sum}\")\n",
    "  "
   ]
  },
  {
   "cell_type": "code",
   "execution_count": 4,
   "id": "d2f05c2a",
   "metadata": {},
   "outputs": [
    {
     "name": "stdout",
     "output_type": "stream",
     "text": [
      "Hammad total is 9\n"
     ]
    }
   ],
   "source": [
    "add_num(\"Hammad\",4,5)"
   ]
  },
  {
   "cell_type": "code",
   "execution_count": 5,
   "id": "34d2807e",
   "metadata": {},
   "outputs": [
    {
     "name": "stdout",
     "output_type": "stream",
     "text": [
      "Hammad Afridi total is 9\n"
     ]
    }
   ],
   "source": [
    "add_num(\"Hammad Afridi\",4,5)   "
   ]
  },
  {
   "cell_type": "code",
   "execution_count": 6,
   "id": "074beace",
   "metadata": {},
   "outputs": [
    {
     "name": "stdout",
     "output_type": "stream",
     "text": [
      "Qasim total is 2\n"
     ]
    }
   ],
   "source": [
    "num1 = int(input(\"Enter a num: \"))\n",
    "num2 = int(input(\"Enter a num: \"))  \n",
    "add_num(\"Qasim\",num1,num2)     "
   ]
  },
  {
   "cell_type": "code",
   "execution_count": 7,
   "id": "a52764c1",
   "metadata": {},
   "outputs": [],
   "source": [
    "def add_num(name, *nums):\n",
    "    print(name)\n",
    "    print(*nums)    "
   ]
  },
  {
   "cell_type": "code",
   "execution_count": 8,
   "id": "20b688e8",
   "metadata": {},
   "outputs": [
    {
     "name": "stdout",
     "output_type": "stream",
     "text": [
      "Hammad\n",
      "4 5 4 7 8 9\n"
     ]
    }
   ],
   "source": [
    "add_num(\"Hammad\",4,5,4,7,8,9)   "
   ]
  },
  {
   "cell_type": "code",
   "execution_count": 9,
   "id": "42d270de",
   "metadata": {},
   "outputs": [],
   "source": [
    "def add_num(name, *nums):\n",
    "    summ = sum(nums)    \n",
    "    print(summ)    "
   ]
  },
  {
   "cell_type": "code",
   "execution_count": 10,
   "id": "60721da6",
   "metadata": {},
   "outputs": [
    {
     "name": "stdout",
     "output_type": "stream",
     "text": [
      "30\n"
     ]
    }
   ],
   "source": [
    "add_num(\"Hammad\",4,5,4,2,5,3,7)       "
   ]
  },
  {
   "cell_type": "code",
   "execution_count": 11,
   "id": "40352ca0",
   "metadata": {},
   "outputs": [],
   "source": [
    "def add_num(name, *nums): \n",
    "    result = 0  \n",
    "    for num in nums:\n",
    "        result += num\n",
    "    print(f\"{name} total is {result}\")\n",
    "        "
   ]
  },
  {
   "cell_type": "code",
   "execution_count": 12,
   "id": "831f5d7c",
   "metadata": {},
   "outputs": [
    {
     "name": "stdout",
     "output_type": "stream",
     "text": [
      "Hammad total is 36\n"
     ]
    }
   ],
   "source": [
    "add_num(\"Hammad\" , 4,5,4,2,5,9,7)   "
   ]
  },
  {
   "cell_type": "code",
   "execution_count": 13,
   "id": "0e1baa3e",
   "metadata": {},
   "outputs": [],
   "source": [
    "def add_num(name, **nums):\n",
    "    result = 0  \n",
    "    for val in nums.values():\n",
    "        result += val       \n",
    "    print(f\"{name} total is {result}\")          "
   ]
  },
  {
   "cell_type": "code",
   "execution_count": 14,
   "id": "d29d7327",
   "metadata": {},
   "outputs": [
    {
     "name": "stdout",
     "output_type": "stream",
     "text": [
      "Hammad total is 37\n"
     ]
    }
   ],
   "source": [
    "add_num(\"Hammad\",num=4,num2=5,num3=4,num4=7 ,num5=8,num6=9)   "
   ]
  },
  {
   "cell_type": "code",
   "execution_count": 15,
   "id": "e0a030c7",
   "metadata": {},
   "outputs": [
    {
     "name": "stdout",
     "output_type": "stream",
     "text": [
      "120\n"
     ]
    }
   ],
   "source": [
    "def factorial(n):\n",
    "    if n==0 or n==1:\n",
    "        return 1\n",
    "    else:\n",
    "        return n * factorial(n-1) \n",
    "    \n",
    "print(factorial(5))\n",
    "  "
   ]
  },
  {
   "cell_type": "code",
   "execution_count": 16,
   "id": "bf733be0",
   "metadata": {},
   "outputs": [
    {
     "name": "stdout",
     "output_type": "stream",
     "text": [
      "120\n"
     ]
    }
   ],
   "source": [
    "# while loop syntax and write a code of finding  factorial using while loop in python\n",
    "\n",
    "def factorial(n):\n",
    "    result = 1\n",
    "    while n > 1:\n",
    "        result *= n\n",
    "        n -= 1\n",
    "    return result\n",
    "\n",
    "print(factorial(5))\n"
   ]
  },
  {
   "cell_type": "code",
   "execution_count": 17,
   "id": "693cef7e",
   "metadata": {},
   "outputs": [
    {
     "name": "stdout",
     "output_type": "stream",
     "text": [
      "Factorial of 1 is: 1\n"
     ]
    }
   ],
   "source": [
    "# Factorial using while loop\n",
    "\n",
    "num = int(input(\"Enter a number: \"))\n",
    "fact = 1\n",
    "i = 1\n",
    "\n",
    "while i <= num:\n",
    "    fact = fact * i\n",
    "    i = i + 1\n",
    "\n",
    "print(\"Factorial of\", num, \"is:\", fact)\n"
   ]
  },
  {
   "cell_type": "code",
   "execution_count": 18,
   "id": "c04da03e",
   "metadata": {},
   "outputs": [
    {
     "name": "stdout",
     "output_type": "stream",
     "text": [
      "Hello, World!\n"
     ]
    }
   ],
   "source": [
    "print(\"Hello, World!\")  "
   ]
  },
  {
   "cell_type": "code",
   "execution_count": 19,
   "id": "b61b8879",
   "metadata": {},
   "outputs": [
    {
     "name": "stdout",
     "output_type": "stream",
     "text": [
      "You entered: 1\n",
      "You entered: quit\n",
      "You entered: exit\n"
     ]
    }
   ],
   "source": [
    "user_input = \"Hammad Afridi\"\n",
    "while (user_input != \"exit\"):\n",
    "    user_input = input(\"Enter something (type 'exit' to quit): \")\n",
    "    print(\"You entered:\", user_input)      "
   ]
  },
  {
   "cell_type": "code",
   "execution_count": 20,
   "id": "aed7c316",
   "metadata": {},
   "outputs": [],
   "source": [
    "class MyClass:\n",
    "    def __init__(self,Bike,Car,Plane,name):\n",
    "        self.Bike = Bike\n",
    "        self.Car = Car\n",
    "        self.Plane = Plane\n",
    "        self.name = name\n",
    "\n",
    "    def MyClass_Bike(self): \n",
    "        print(f\"{self.name} has a {self.Bike}\") \n",
    "\n",
    "    def MyClass_Car(self): \n",
    "        print(f\"{self.name} has a {self.Car}\")\n",
    "\n",
    "    def MyClass_Plane(self): \n",
    "        print(f\"{self.name} has a {self.Plane}\")      \n",
    "        "
   ]
  },
  {
   "cell_type": "code",
   "execution_count": 21,
   "id": "79d93ccd",
   "metadata": {},
   "outputs": [],
   "source": [
    "MyClass_object = MyClass(\"Bike\", \"Car\", \"Plane\" ,\"Hammad\")"
   ]
  },
  {
   "cell_type": "code",
   "execution_count": 22,
   "id": "e7c3eae2",
   "metadata": {},
   "outputs": [
    {
     "name": "stdout",
     "output_type": "stream",
     "text": [
      "Hammad has a Bike\n",
      "Hammad has a Car\n",
      "Hammad has a Plane\n"
     ]
    }
   ],
   "source": [
    "MyClass_object.MyClass_Bike()\n",
    "MyClass_object.MyClass_Car()\n",
    "MyClass_object.MyClass_Plane()"
   ]
  },
  {
   "cell_type": "code",
   "execution_count": 23,
   "id": "05069848",
   "metadata": {},
   "outputs": [
    {
     "name": "stdout",
     "output_type": "stream",
     "text": [
      "9\n"
     ]
    }
   ],
   "source": [
    "def add(num1,num2):\n",
    "    return num1 + num2\n",
    "print(add(4,5))"
   ]
  },
  {
   "cell_type": "code",
   "execution_count": 24,
   "id": "dfdabd83",
   "metadata": {},
   "outputs": [
    {
     "ename": "ValueError",
     "evalue": "invalid literal for int() with base 10: 'exit'",
     "output_type": "error",
     "traceback": [
      "\u001b[1;31m---------------------------------------------------------------------------\u001b[0m",
      "\u001b[1;31mValueError\u001b[0m                                Traceback (most recent call last)",
      "Cell \u001b[1;32mIn[24], line 3\u001b[0m\n\u001b[0;32m      1\u001b[0m \u001b[38;5;66;03m# complex lambda function if marks greater than 50 then pass otherwise fail\u001b[39;00m\n\u001b[1;32m----> 3\u001b[0m marks \u001b[38;5;241m=\u001b[39m \u001b[38;5;28mint\u001b[39m(\u001b[38;5;28minput\u001b[39m(\u001b[38;5;124m\"\u001b[39m\u001b[38;5;124mEnter your marks: \u001b[39m\u001b[38;5;124m\"\u001b[39m))\n\u001b[0;32m      4\u001b[0m result \u001b[38;5;241m=\u001b[39m \u001b[38;5;28;01mlambda\u001b[39;00m marks: \u001b[38;5;124m\"\u001b[39m\u001b[38;5;124mPass\u001b[39m\u001b[38;5;124m\"\u001b[39m \u001b[38;5;28;01mif\u001b[39;00m marks \u001b[38;5;241m>\u001b[39m\u001b[38;5;241m=\u001b[39m \u001b[38;5;241m50\u001b[39m \u001b[38;5;28;01melse\u001b[39;00m \u001b[38;5;124m\"\u001b[39m\u001b[38;5;124mFail\u001b[39m\u001b[38;5;124m\"\u001b[39m\n\u001b[0;32m      5\u001b[0m \u001b[38;5;28mprint\u001b[39m(result(marks))\n",
      "\u001b[1;31mValueError\u001b[0m: invalid literal for int() with base 10: 'exit'"
     ]
    }
   ],
   "source": [
    "\n",
    "\n",
    "# complex lambda function if marks greater than 50 then pass otherwise fail\n",
    "\n",
    "marks = int(input(\"Enter your marks: \"))\n",
    "result = lambda marks: \"Pass\" if marks >= 50 else \"Fail\"\n",
    "print(result(marks))\n",
    "\n",
    "\n",
    "\n",
    "\n"
   ]
  },
  {
   "cell_type": "code",
   "execution_count": null,
   "id": "93705ea3",
   "metadata": {},
   "outputs": [],
   "source": [
    "# explaining map fuction in python\n",
    "numbers = [1, 2, 3, 4, 5]\n",
    "squared_numbers = list(map(lambda x: x**2, numbers))\n",
    "print(squared_numbers)  # Output: [1, 4, 9, 16, 25]\n"
   ]
  },
  {
   "cell_type": "code",
   "execution_count": null,
   "id": "916d671b",
   "metadata": {},
   "outputs": [
    {
     "name": "stdout",
     "output_type": "stream",
     "text": [
      "15\n"
     ]
    }
   ],
   "source": [
    "# reduce function in python\n",
    "from functools import reduce\n",
    "result = reduce(lambda x, y: x + y, [1, 2, 3, 4, 5])\n",
    "print(result)  # Output: 15\n"
   ]
  },
  {
   "cell_type": "code",
   "execution_count": null,
   "id": "29323247",
   "metadata": {},
   "outputs": [],
   "source": [
    "# sorted function in python\n",
    "numbers = [5, 2, 9, 1, 5, 6]\n",
    "sorted_numbers = sorted(numbers)\n",
    "print(sorted_numbers)  # Output: [1, 2, 5, 5, 6, 9]"
   ]
  },
  {
   "cell_type": "code",
   "execution_count": null,
   "id": "49dbba61",
   "metadata": {},
   "outputs": [
    {
     "name": "stdout",
     "output_type": "stream",
     "text": [
      "Buddy\n",
      "Woof!\n"
     ]
    }
   ],
   "source": [
    "# oops in python\n",
    "class Dog:\n",
    "    def __init__(self, name, age):\n",
    "        self.name = name\n",
    "        self.age = age\n",
    "\n",
    "    def bark(self):\n",
    "        return \"Woof!\"\n",
    "\n",
    "my_dog = Dog(\"Buddy\", 3)\n",
    "print(my_dog.name)  # Output: Buddy\n",
    "print(my_dog.bark())  # Output: Woof!\n"
   ]
  },
  {
   "cell_type": "code",
   "execution_count": null,
   "id": "fadad219",
   "metadata": {},
   "outputs": [],
   "source": [
    "class Saylani:\n",
    "    # class variables\n",
    "    helpline = \"123456789\"\n",
    "    obj_count = 0\n",
    "    def __init__(self, campus, staff_count, course_count):\n",
    "        self.campus = campus\n",
    "        self.staff_count = staff_count\n",
    "        self.course_count = course_count\n",
    "        Saylani.obj_count += 1\n",
    "    \n",
    "    def info(self,courses):\n",
    "        print( f\"Saylani Campus: {self.campus}, Staff Count: {self.staff_count}, Course Count: {self.course_count}\")\n",
    "        print(f\"Courses Offered: {', '.join(courses)}\")\n",
    "        print(type(courses))\n",
    "    @staticmethod\n",
    "    def get_helpline():\n",
    "        return Saylani.helpline\n"
   ]
  },
  {
   "cell_type": "code",
   "execution_count": null,
   "id": "e59a541d",
   "metadata": {},
   "outputs": [
    {
     "data": {
      "text/plain": [
       "'123456789'"
      ]
     },
     "execution_count": 59,
     "metadata": {},
     "output_type": "execute_result"
    }
   ],
   "source": [
    "Saylani.get_helpline()"
   ]
  },
  {
   "cell_type": "code",
   "execution_count": null,
   "id": "f31c40b2",
   "metadata": {},
   "outputs": [
    {
     "data": {
      "text/plain": [
       "'123456789'"
      ]
     },
     "execution_count": 60,
     "metadata": {},
     "output_type": "execute_result"
    }
   ],
   "source": [
    "Saylani.helpline"
   ]
  },
  {
   "cell_type": "code",
   "execution_count": null,
   "id": "93dc7e10",
   "metadata": {},
   "outputs": [],
   "source": [
    "# making object of class\n",
    "za = Saylani(\"Za it park\", 100, 20)\n",
    "# print(za.info())\n"
   ]
  },
  {
   "cell_type": "code",
   "execution_count": null,
   "id": "46947b63",
   "metadata": {},
   "outputs": [
    {
     "name": "stdout",
     "output_type": "stream",
     "text": [
      "Saylani Campus: Za it park, Staff Count: 100, Course Count: 20\n",
      "Courses Offered: Web Development, Data Science, Cyber Security\n",
      "<class 'list'>\n"
     ]
    }
   ],
   "source": [
    "za.info([\"Web Development\", \"Data Science\", \"Cyber Security\"])\n"
   ]
  },
  {
   "cell_type": "code",
   "execution_count": null,
   "id": "9008e6f8",
   "metadata": {},
   "outputs": [],
   "source": [
    "bahadurabad = Saylani(\"Bahadurabad\", 80, 15)"
   ]
  },
  {
   "cell_type": "code",
   "execution_count": null,
   "id": "6bc2ec56",
   "metadata": {},
   "outputs": [
    {
     "data": {
      "text/plain": [
       "'123456789'"
      ]
     },
     "execution_count": 47,
     "metadata": {},
     "output_type": "execute_result"
    }
   ],
   "source": [
    "za.helpline"
   ]
  },
  {
   "cell_type": "code",
   "execution_count": null,
   "id": "8a8b2b89",
   "metadata": {},
   "outputs": [
    {
     "data": {
      "text/plain": [
       "2"
      ]
     },
     "execution_count": 51,
     "metadata": {},
     "output_type": "execute_result"
    }
   ],
   "source": [
    "za.obj_count"
   ]
  },
  {
   "cell_type": "code",
   "execution_count": null,
   "id": "3af57f52",
   "metadata": {},
   "outputs": [],
   "source": [
    "# name of oops pillars in python\n",
    "1. Encapsulation\n",
    "2. Abstraction\n",
    "3. Inheritance\n",
    "4. Polymorphism\n",
    "\n"
   ]
  },
  {
   "cell_type": "code",
   "execution_count": null,
   "id": "8d7fe38c",
   "metadata": {},
   "outputs": [],
   "source": [
    "#  create a class of cars with three atributes and two methods such that one method should be static also 2 class variables and one should dynamic\n",
    "class Car:\n",
    "    # class variables\n",
    "    wheels = 4\n",
    "    doors = 4\n",
    "\n",
    "    def __init__(self, make, model, year):\n",
    "        self.make = make\n",
    "        self.model = model\n",
    "        self.year = year\n",
    "\n",
    "    def car_info(self):\n",
    "        return f\"{self.year} {self.make} {self.model} with {Car.wheels} wheels and {Car.doors} doors.\"\n",
    "\n",
    "    @staticmethod\n",
    "    def car_sound():\n",
    "        return \"Vroom Vroom!\"\n"
   ]
  },
  {
   "cell_type": "code",
   "execution_count": 25,
   "id": "d9ad81a4",
   "metadata": {},
   "outputs": [
    {
     "ename": "NameError",
     "evalue": "name 'Car' is not defined",
     "output_type": "error",
     "traceback": [
      "\u001b[1;31m---------------------------------------------------------------------------\u001b[0m",
      "\u001b[1;31mNameError\u001b[0m                                 Traceback (most recent call last)",
      "Cell \u001b[1;32mIn[25], line 2\u001b[0m\n\u001b[0;32m      1\u001b[0m \u001b[38;5;66;03m# creating object of Car class\u001b[39;00m\n\u001b[1;32m----> 2\u001b[0m my_car \u001b[38;5;241m=\u001b[39m Car(\u001b[38;5;124m\"\u001b[39m\u001b[38;5;124mToyota\u001b[39m\u001b[38;5;124m\"\u001b[39m, \u001b[38;5;124m\"\u001b[39m\u001b[38;5;124mCamry\u001b[39m\u001b[38;5;124m\"\u001b[39m, \u001b[38;5;241m2020\u001b[39m)\n\u001b[0;32m      3\u001b[0m \u001b[38;5;28mprint\u001b[39m(my_car\u001b[38;5;241m.\u001b[39mcar_info())  \u001b[38;5;66;03m# Output: 2020 Toyota Camry1 with 4 wheels and 4 doors.\u001b[39;00m\n\u001b[0;32m      4\u001b[0m \u001b[38;5;28mprint\u001b[39m(Car\u001b[38;5;241m.\u001b[39mcar_sound())\n",
      "\u001b[1;31mNameError\u001b[0m: name 'Car' is not defined"
     ]
    }
   ],
   "source": [
    "# creating object of Car class\n",
    "my_car = Car(\"Toyota\", \"Camry\", 2020)\n",
    "print(my_car.car_info())  # Output: 2020 Toyota Camry1 with 4 wheels and 4 doors.\n",
    "print(Car.car_sound())    # Output: Vroom Vroom!\n"
   ]
  },
  {
   "cell_type": "code",
   "execution_count": null,
   "id": "aa134ff9",
   "metadata": {},
   "outputs": [],
   "source": []
  },
  {
   "cell_type": "code",
   "execution_count": null,
   "id": "e4ebb291",
   "metadata": {},
   "outputs": [],
   "source": []
  }
 ],
 "metadata": {
  "kernelspec": {
   "display_name": "base",
   "language": "python",
   "name": "python3"
  },
  "language_info": {
   "codemirror_mode": {
    "name": "ipython",
    "version": 3
   },
   "file_extension": ".py",
   "mimetype": "text/x-python",
   "name": "python",
   "nbconvert_exporter": "python",
   "pygments_lexer": "ipython3",
   "version": "3.13.5"
  }
 },
 "nbformat": 4,
 "nbformat_minor": 5
}
