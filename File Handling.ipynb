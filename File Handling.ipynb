{
 "cells": [
  {
   "cell_type": "markdown",
   "id": "d2c385ed",
   "metadata": {},
   "source": [
    "File Handling\n",
    " \n",
    "\n",
    " "
   ]
  },
  {
   "cell_type": "code",
   "execution_count": 17,
   "id": "5834d244",
   "metadata": {},
   "outputs": [],
   "source": [
    "# Year,Event,Winner\n",
    "# 1995,Best-Kept Lawn,None\n",
    "# 1999,Gobstones,Welch Nationional\n",
    "# 2006,World Cup,Burkina Faso\n",
    "import csv"
   ]
  },
  {
   "cell_type": "code",
   "execution_count": 18,
   "id": "0565583a",
   "metadata": {},
   "outputs": [
    {
     "name": "stdout",
     "output_type": "stream",
     "text": [
      "<_csv.reader object at 0x00000223F3B008E0>\n",
      "['2021', 'asia cup', 'pak']\n"
     ]
    }
   ],
   "source": [
    "with open ('./competetion.csv', 'r') as f:\n",
    "    content = csv.reader(f)\n",
    "    print(content)\n",
    "    for line in content:\n",
    "        print(line) \n",
    "\n",
    "       \n",
    "  \n"
   ]
  },
  {
   "cell_type": "code",
   "execution_count": 19,
   "id": "919ed6b7",
   "metadata": {},
   "outputs": [],
   "source": [
    "import csv\n",
    "\n",
    "with open('./competetion.csv', mode='w', newline='') as f:\n",
    "    file_handle = csv.writer(f, delimiter=',')\n",
    "    file_handle.writerow(['2021', 'asia cup', 'pak'])\n"
   ]
  },
  {
   "cell_type": "code",
   "execution_count": 20,
   "id": "3357dd81",
   "metadata": {},
   "outputs": [],
   "source": [
    "import json"
   ]
  },
  {
   "cell_type": "code",
   "execution_count": 21,
   "id": "3c4d4487",
   "metadata": {},
   "outputs": [],
   "source": [
    "with open ('./json_fie.json','w') as f:\n",
    "    json.dump(['a','v','b'],f)"
   ]
  },
  {
   "cell_type": "code",
   "execution_count": 22,
   "id": "88ac2815",
   "metadata": {},
   "outputs": [],
   "source": [
    "with open ('./json_fie.json','r') as f:\n",
    "    content = json.load(f)"
   ]
  },
  {
   "cell_type": "code",
   "execution_count": 23,
   "id": "d50932f2",
   "metadata": {},
   "outputs": [
    {
     "name": "stdout",
     "output_type": "stream",
     "text": [
      "before\n",
      "division by zero\n",
      "after\n"
     ]
    }
   ],
   "source": [
    "print('before')\n",
    "try:\n",
    "    cal = 5/0\n",
    "    print(cal)\n",
    "except Exception as e:\n",
    "    print(e)\n",
    "    print('after')"
   ]
  },
  {
   "cell_type": "code",
   "execution_count": 24,
   "id": "68b04305",
   "metadata": {},
   "outputs": [
    {
     "name": "stdout",
     "output_type": "stream",
     "text": [
      "before\n",
      "division by zero\n",
      "1.0\n",
      "after\n"
     ]
    }
   ],
   "source": [
    "print('before')\n",
    "try:\n",
    "    cal = 5/0\n",
    "    print(cal)\n",
    "except Exception as e:\n",
    "    print(e)\n",
    "finally:\n",
    "    print(5/5)\n",
    "    print('after')"
   ]
  },
  {
   "cell_type": "code",
   "execution_count": null,
   "id": "986fd042",
   "metadata": {},
   "outputs": [],
   "source": []
  }
 ],
 "metadata": {
  "kernelspec": {
   "display_name": "base",
   "language": "python",
   "name": "python3"
  },
  "language_info": {
   "codemirror_mode": {
    "name": "ipython",
    "version": 3
   },
   "file_extension": ".py",
   "mimetype": "text/x-python",
   "name": "python",
   "nbconvert_exporter": "python",
   "pygments_lexer": "ipython3",
   "version": "3.13.5"
  }
 },
 "nbformat": 4,
 "nbformat_minor": 5
}
