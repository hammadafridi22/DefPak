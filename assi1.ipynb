{
 "cells": [
  {
   "cell_type": "code",
   "execution_count": 3,
   "id": "ca50eb18",
   "metadata": {},
   "outputs": [
    {
     "name": "stdout",
     "output_type": "stream",
     "text": [
      "Name: HAMMAD AFRIDI\n",
      "Father's Name: AMIN\n",
      "Date of Birth: 12/07/2003\n"
     ]
    }
   ],
   "source": [
    "# 1. Print Your Name with your Father name and Date of birth using suitable escape sequence charactor\n",
    "print(\"Name: HAMMAD AFRIDI\\nFather's Name: AMIN\\nDate of Birth: 12/07/2003\")"
   ]
  },
  {
   "cell_type": "code",
   "execution_count": 4,
   "id": "c743bcb9",
   "metadata": {},
   "outputs": [
    {
     "name": "stdout",
     "output_type": "stream",
     "text": [
      "Name:Hammad Afridi\n",
      "Father's Name: AMIN\n",
      "Date of Birth: 12/07/2003 \n",
      "Occupation: Student\n",
      "Course: BSCS data engineering\n"
     ]
    }
   ],
   "source": [
    "# Write your small bio using variables and print it using print function\n",
    "name = \"Hammad Afridi\"\n",
    "Father_Name = \"AMIN\"\n",
    "Date_of_Birth = \"12/07/2003\"\n",
    "occupation = \"Student\"\n",
    "course = \"BSCS data engineering\"\n",
    "print(f\"Name:{name}\\nFather's Name: {Father_Name}\\nDate of Birth: {Date_of_Birth} \\nOccupation: {occupation}\\nCourse: {course}\")"
   ]
  },
  {
   "cell_type": "code",
   "execution_count": 5,
   "id": "f97fdc6e",
   "metadata": {},
   "outputs": [
    {
     "name": "stdout",
     "output_type": "stream",
     "text": [
      "The sum of 4 and 5 is = 9\n",
      "The product of 4 and 5 is = 20\n",
      "The difference when 5 is subtracted from 4 is = -1\n",
      "The division of 4 by 5 gives = 0.8\n",
      "The remainder when 4 is divided by 5 is = 4\n"
     ]
    }
   ],
   "source": [
    "a = 4\n",
    "b = 5\n",
    "c = a + b\n",
    "print(f\"The sum of {a} and {b} is = {c}\")\n",
    "c = a * b\n",
    "print(f\"The product of {a} and {b} is = {c}\")\n",
    "c = a - b\n",
    "print(f\"The difference when {b} is subtracted from {a} is = {c}\")\n",
    "c = a / b\n",
    "print(f\"The division of {a} by {b} gives = {c}\")\n",
    "c = a % b\n",
    "print(f\"The remainder when {a} is divided by {b} is = {c}\")\n"
   ]
  },
  {
   "cell_type": "code",
   "execution_count": 6,
   "id": "eca02349",
   "metadata": {},
   "outputs": [
    {
     "name": "stdout",
     "output_type": "stream",
     "text": [
      "Total Marks: 300\n",
      "Obtained Marks: 253\n",
      "Percentage: 84.33333333333334%\n"
     ]
    }
   ],
   "source": [
    "English = 78\n",
    "Math = 85\n",
    "Islamiyat = 90\n",
    "total_marks = 300\n",
    "obtained_marks = English + Math + Islamiyat\n",
    "percentage = (obtained_marks / total_marks) * 100\n",
    "print(f\"Total Marks: {total_marks}\\nObtained Marks: {obtained_marks}\\nPercentage: {percentage}%\")"
   ]
  },
  {
   "cell_type": "code",
   "execution_count": 5,
   "id": "6e683464",
   "metadata": {},
   "outputs": [
    {
     "name": "stdout",
     "output_type": "stream",
     "text": [
      "Invalid input. Please enter valid numbers.\n"
     ]
    }
   ],
   "source": [
    "employee_input = input(\"Enter Employee Salary: \")\n",
    "years_of_service_input = input(\"Enter Years of Service: \")\n",
    "\n",
    "if employee_input.strip() and years_of_service_input.strip():\n",
    "    employee = int(employee_input)\n",
    "    years_of_service = int(years_of_service_input)\n",
    "    if years_of_service > 5:\n",
    "        bonus = employee * 0.05\n",
    "        print(f\"Bonus Amount: {bonus}\")\n",
    "    else:\n",
    "        print(\"No bonus for less than or equal to 5 years of service.\")\n",
    "else:\n",
    "    print(\"Invalid input. Please enter valid numbers.\")\n",
    "    "
   ]
  },
  {
   "cell_type": "code",
   "execution_count": null,
   "id": "a0749064",
   "metadata": {},
   "outputs": [
    {
     "name": "stdout",
     "output_type": "stream",
     "text": [
      "You are Not Eligible to vote.\n"
     ]
    }
   ],
   "source": [
    "age = int(input(\"Enter Your Age: \"))\n",
    "result = \"Eligible\" if age >= 17 else \"Not Eligible\"\n",
    "print(f\"You are {result} to vote.\")"
   ]
  },
  {
   "cell_type": "code",
   "execution_count": null,
   "id": "4240140d",
   "metadata": {},
   "outputs": [
    {
     "name": "stdout",
     "output_type": "stream",
     "text": [
      "4 is an Even number.\n"
     ]
    }
   ],
   "source": [
    "number = int(input(\"Enter a number: \"))\n",
    "if number % 2 == 0:\n",
    "    print(f\"{number} is an Even number.\")\n",
    "else:\n",
    "    print(f\"{number} is an Odd number.\")"
   ]
  },
  {
   "cell_type": "code",
   "execution_count": null,
   "id": "44e59482",
   "metadata": {},
   "outputs": [
    {
     "name": "stdout",
     "output_type": "stream",
     "text": [
      "4 is an odd number.\n"
     ]
    }
   ],
   "source": [
    "number = int(input(\"Enter a number: \"))\n",
    "result = \"even\" if number % 7 == 0 else \"odd\"\n",
    "print(f\"{number} is an {result} number.\")"
   ]
  },
  {
   "cell_type": "code",
   "execution_count": null,
   "id": "cb5442d6",
   "metadata": {},
   "outputs": [
    {
     "name": "stdout",
     "output_type": "stream",
     "text": [
      "hello\n"
     ]
    }
   ],
   "source": [
    "number = int(input(\"Enter a number: \"))\n",
    "result = \"hello\" if number % 5 == 0 else \"bye\"\n",
    "print(result)"
   ]
  },
  {
   "cell_type": "code",
   "execution_count": null,
   "id": "adf60ea6",
   "metadata": {},
   "outputs": [
    {
     "name": "stdout",
     "output_type": "stream",
     "text": [
      "3\n"
     ]
    }
   ],
   "source": [
    "number = int(input(\"Enter a number: \"))\n",
    "print(number % 10)"
   ]
  },
  {
   "cell_type": "code",
   "execution_count": null,
   "id": "d9e2a19d",
   "metadata": {},
   "outputs": [
    {
     "name": "stdout",
     "output_type": "stream",
     "text": [
      "This is a square.\n"
     ]
    }
   ],
   "source": [
    "length = int(input(\"Enter the length of the rectangle: \"))\n",
    "breadth  = int(input(\"Enter the width of the rectangle: \"))    \n",
    "area = length * breadth\n",
    "square_area = area ** 2\n",
    "if length == breadth:\n",
    "    print(\"This is a square.\")\n",
    "else:\n",
    "    print(\"This is a rectangle.\")\n"
   ]
  },
  {
   "cell_type": "code",
   "execution_count": null,
   "id": "31d3041d",
   "metadata": {},
   "outputs": [
    {
     "name": "stdout",
     "output_type": "stream",
     "text": [
      "4 is greater than 3\n"
     ]
    }
   ],
   "source": [
    "num1 = int(input(\"Enter first number: \"))\n",
    "num2 = int(input(\"Enter second number: \"))\n",
    "result = f\"{num1} is greater than {num2}\" if num1 > num2 else f\"{num2} is greater than {num1}\"\n",
    "print(result)"
   ]
  },
  {
   "cell_type": "code",
   "execution_count": null,
   "id": "0a686a8b",
   "metadata": {},
   "outputs": [
    {
     "name": "stdout",
     "output_type": "stream",
     "text": [
      "Total amount to be paid: 1500\n",
      "Discount applied: 150.0\n",
      "Total amount after discount: 1350.0\n"
     ]
    }
   ],
   "source": [
    "user_purchase = int(input(\"Enter the amount of your purchase: \"))\n",
    "one_unit_cost = 100\n",
    "purchased = user_purchase * one_unit_cost\n",
    "print(f\"Total amount to be paid: {purchased}\")\n",
    "if purchased > 1000:\n",
    "    discount = purchased * 0.1\n",
    "    total_amount = purchased - discount\n",
    "    print(f\"Discount applied: {discount}\\nTotal amount after discount: {total_amount}\")\n",
    "else:\n",
    "    print(\"No discount applied.\")\n"
   ]
  },
  {
   "cell_type": "code",
   "execution_count": null,
   "id": "42b9e18b",
   "metadata": {},
   "outputs": [
    {
     "name": "stdout",
     "output_type": "stream",
     "text": [
      "Attendance Percentage: 70.0%\n",
      "You are not allowed to sit in the exam...!\n"
     ]
    }
   ],
   "source": [
    "number_of_classes_attended = int(input(\"Enter the number of classes attended: \"))\n",
    "total_classes = int(input(\"Enter the total number of classes: \"))\n",
    "attendance_percentage = (number_of_classes_attended / total_classes) * 100\n",
    "print(f\"Attendance Percentage: {attendance_percentage}%\")\n",
    "if attendance_percentage >= 75:\n",
    "    print(\"You are eligible to sit in the exam.\")\n",
    "elif attendance_percentage < 75:\n",
    "    print(\"You are not allowed to sit in the exam...!\")\n",
    "else:\n",
    "    print(\"Invalid input, please try again.\")"
   ]
  },
  {
   "cell_type": "code",
   "execution_count": null,
   "id": "ee254038",
   "metadata": {},
   "outputs": [
    {
     "name": "stdout",
     "output_type": "stream",
     "text": [
      "Attendance Percentage: 70.0%\n",
      "You are eligible to sit in the exam.\n"
     ]
    }
   ],
   "source": [
    "number_of_classes_attended = int(input(\"Enter the number of classes attended: \"))\n",
    "total_classes = int(input(\"Enter the total number of classes: \"))\n",
    "attendance_percentage = (number_of_classes_attended / total_classes) * 100\n",
    "print(f\"Attendance Percentage: {attendance_percentage}%\")\n",
    "if attendance_percentage >= 75:\n",
    "   print(\"You are eligible to sit in the exam.\")\n",
    "elif attendance_percentage < 75:\n",
    "    ask_student_reason = input(\"Do you have a valid reason for low attendance? (yes/no): \").strip().lower()\n",
    "    if ask_student_reason == \"yes\":\n",
    "        print(\"You are eligible to sit in the exam with warning!.\")\n",
    "    else:\n",
    "        print(\"You are not allowed to sit in the exam...!\")\n",
    "else:\n",
    "    print(\"Invalid input, please try again.\")"
   ]
  },
  {
   "cell_type": "code",
   "execution_count": null,
   "id": "d0711ac6",
   "metadata": {},
   "outputs": [
    {
     "name": "stdout",
     "output_type": "stream",
     "text": [
      "1900 is not a leap year.\n"
     ]
    }
   ],
   "source": [
    "year = int(input(\"Enter a year: \"))\n",
    "if (year % 4 == 0 and year % 100 != 0) or (year % 400 == 0):\n",
    "    print(f\"{year} is a leap year.\")\n",
    "else:\n",
    "    print(f\"{year} is not a leap year.\")"
   ]
  },
  {
   "cell_type": "code",
   "execution_count": null,
   "id": "59050e70",
   "metadata": {},
   "outputs": [
    {
     "name": "stdout",
     "output_type": "stream",
     "text": [
      "You can work anywhere.\n"
     ]
    }
   ],
   "source": [
    "age = int(input(\"Enter your age: \"))\n",
    "gender = input(\"Enter your M/F: \").lower().strip()\n",
    "marital_status = input(\"Enter your marital status (Y/N): \").lower().strip()\n",
    "if gender == 'f':\n",
    "    print(\"You will work only in urban areas.\")\n",
    "elif gender == 'm' and 20 <= age <= 40:\n",
    "    print(\"You can work anywhere.\")\n",
    "elif gender == 'm' and 40 <= age <= 60:\n",
    "    print(\"You will work only in urban areas.\")\n",
    "else:\n",
    "    print(\"ERROR! Invalid input.\")\n",
    "    "
   ]
  },
  {
   "cell_type": "code",
   "execution_count": null,
   "id": "ce7042fc",
   "metadata": {},
   "outputs": [
    {
     "name": "stdout",
     "output_type": "stream",
     "text": [
      "Total Charge: 2010 Rs\n"
     ]
    }
   ],
   "source": [
    "number_of_units = int(input(\"Enter the number of units consumed: \"))\n",
    "if number_of_units <= 100:\n",
    "    print(\"Charges Free Enjoy!\")\n",
    "elif number_of_units <= 200 and number_of_units > 100:\n",
    "    charge = number_of_units * 5\n",
    "    print(f\"Total Charge: {charge} Rs\")\n",
    "elif number_of_units >= 200:\n",
    "    charge = number_of_units * 10\n",
    "    print(f\"Total Charge: {charge} Rs\")\n",
    "else:\n",
    "    print(\"Invalid input, please try again.\")"
   ]
  },
  {
   "cell_type": "code",
   "execution_count": null,
   "id": "4aa77fa4",
   "metadata": {},
   "outputs": [
    {
     "name": "stdout",
     "output_type": "stream",
     "text": [
      "50 is the oldest.\n"
     ]
    }
   ],
   "source": [
    "user1 = input(\"Enter first age: \")\n",
    "user2 = input(\"Enter second age: \")\n",
    "user3 = input(\"Enter third age: \")\n",
    "if user1 > user2 and user1 > user3:\n",
    "    print(f\"{user1} is the oldest.\")\n",
    "elif user2 > user1 and user2 > user3:\n",
    "    print(f\"{user2} is the oldest.\")\n",
    "elif user3 > user1 and user3 > user2:\n",
    "    print(f\"{user3} is the oldest.\")\n",
    "else:\n",
    "    print(\"All are equal.\")"
   ]
  },
  {
   "cell_type": "code",
   "execution_count": null,
   "id": "4bb5c5c2",
   "metadata": {},
   "outputs": [
    {
     "name": "stdout",
     "output_type": "stream",
     "text": [
      "a is a vowel.\n"
     ]
    }
   ],
   "source": [
    "# ...existing code...\n",
    "user = input(\"Enter a character: \").lower().strip()\n",
    "if user in ['a', 'e', 'i', 'o', 'u']:\n",
    "    print(f\"{user} is a vowel.\")\n",
    "else:\n",
    "    print(f\"{user} is a consonant.\")\n",
    "# ...existing code..."
   ]
  },
  {
   "cell_type": "code",
   "execution_count": null,
   "id": "74b6c04c",
   "metadata": {},
   "outputs": [],
   "source": []
  },
  {
   "cell_type": "code",
   "execution_count": null,
   "id": "7dca8112",
   "metadata": {},
   "outputs": [],
   "source": []
  }
 ],
 "metadata": {
  "kernelspec": {
   "display_name": "base",
   "language": "python",
   "name": "python3"
  },
  "language_info": {
   "codemirror_mode": {
    "name": "ipython",
    "version": 3
   },
   "file_extension": ".py",
   "mimetype": "text/x-python",
   "name": "python",
   "nbconvert_exporter": "python",
   "pygments_lexer": "ipython3",
   "version": "3.13.5"
  }
 },
 "nbformat": 4,
 "nbformat_minor": 5
}
