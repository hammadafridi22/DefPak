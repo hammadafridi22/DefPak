{
 "cells": [
  {
   "cell_type": "markdown",
   "id": "43a623c5",
   "metadata": {},
   "source": [
    "## classes\n",
    "- class initialize with proper name\n",
    "- constructor\n",
    "    - atritbutes\n",
    "- method\n",
    "\n",
    "## oop (object oreiented programing)\n",
    "\n",
    "- inheritence\n",
    "- abstraction (raw structure implimentation of functionality no there)\n",
    "- polymorphsims (one class can be used in multiple behavior)\n",
    "- encapsulation (code is hidden from users)\n"
   ]
  },
  {
   "cell_type": "code",
   "execution_count": 4,
   "id": "2e41c82d",
   "metadata": {},
   "outputs": [],
   "source": [
    "class parent:\n",
    "    def __init__(self, eye_color , hair_color):\n",
    "        self.eye_color = eye_color\n",
    "        self.hair_color = hair_color\n",
    "\n",
    "    def can_paint(self):\n",
    "        print(f\"have ability to paint\")\n",
    "\n"
   ]
  },
  {
   "cell_type": "code",
   "execution_count": 5,
   "id": "a4f32963",
   "metadata": {},
   "outputs": [
    {
     "name": "stdout",
     "output_type": "stream",
     "text": [
      "black\n",
      "brown\n",
      "have ability to paint\n"
     ]
    }
   ],
   "source": [
    "par_obj = parent(\"black\",\"brown\")\n",
    "print(par_obj.eye_color)\n",
    "print(par_obj.hair_color)\n",
    "\n",
    "par_obj.can_paint()\n",
    "\n",
    "\n"
   ]
  },
  {
   "cell_type": "code",
   "execution_count": 7,
   "id": "bdc9530b",
   "metadata": {},
   "outputs": [],
   "source": [
    "class child(parent):\n",
    "    pass"
   ]
  },
  {
   "cell_type": "code",
   "execution_count": 8,
   "id": "2db4d4e0",
   "metadata": {},
   "outputs": [
    {
     "name": "stdout",
     "output_type": "stream",
     "text": [
      "blue\n",
      "black\n"
     ]
    }
   ],
   "source": [
    "child_obj = child(\"blue\",\"black\")\n",
    "print(child_obj.eye_color)\n",
    "print(child_obj.hair_color)\n"
   ]
  },
  {
   "cell_type": "code",
   "execution_count": 15,
   "id": "43ca7476",
   "metadata": {},
   "outputs": [],
   "source": [
    "class child(parent):\n",
    "\n",
    "    def __init__(self, skin_color , eye_color, hair_color):\n",
    "        super().__init__(eye_color, hair_color)\n",
    "        self.skin_color = skin_color\n",
    "        self.eye_color = eye_color\n",
    "        self.hair_color = hair_color\n",
    "    def can_drive(self):\n",
    "\n",
    "        print(\"have ability to drive\")"
   ]
  },
  {
   "cell_type": "code",
   "execution_count": 18,
   "id": "4e233f18",
   "metadata": {},
   "outputs": [
    {
     "name": "stdout",
     "output_type": "stream",
     "text": [
      "black\n",
      "brown\n",
      "brown\n"
     ]
    }
   ],
   "source": [
    "child_obj = child(\"brown\",\"black\",'brown')\n",
    "print(child_obj.eye_color)\n",
    "print(child_obj.hair_color)\n",
    "print(child_obj.skin_color)\n"
   ]
  },
  {
   "cell_type": "markdown",
   "id": "a3630999",
   "metadata": {},
   "source": [
    "## task () create a class with name \"father\" which have two attributeand one method\n",
    "- create a class with name 'child' that inheret characterstics of father class but shuold have on more attribute and mehtod onther then father\n"
   ]
  },
  {
   "cell_type": "code",
   "execution_count": 23,
   "id": "8fa3d686",
   "metadata": {},
   "outputs": [],
   "source": [
    "class father:\n",
    "    def __init__(self, height, weight):\n",
    "        self.height = height\n",
    "        self.weight = weight\n",
    "    def can_work(self):\n",
    "        print(\"have ability to work\")\n",
    "\n",
    "class mother:\n",
    "    def __init__(self,hair_color):\n",
    "        self.hair_color = hair_color\n",
    "    def can_cook(self):\n",
    "        print(\"have ability to cook\")\n",
    "\n",
    "class child(father):\n",
    "\n",
    "    def __init__(self, age, height, weight, skin_color , hair_color):\n",
    "        father.__init__(self, height, weight)\n",
    "        mother.__init__(self, hair_color)\n",
    "        self.age = age\n",
    "        self.skin_color = skin_color\n",
    "        self.height = height\n",
    "        self.weight = weight\n",
    "        self.hair_color = hair_color\n",
    "        \n",
    "\n",
    "    def can_study(self):\n",
    "        print(\"have ability to study\")\n",
    "    def can_play(self):\n",
    "        print(\"have ability to play cricket\")"
   ]
  },
  {
   "cell_type": "code",
   "execution_count": 24,
   "id": "92715861",
   "metadata": {},
   "outputs": [
    {
     "name": "stdout",
     "output_type": "stream",
     "text": [
      "6 feet\n",
      "80 kg\n",
      "have ability to work\n",
      "black\n",
      "15\n",
      "brown\n",
      "black\n"
     ]
    }
   ],
   "source": [
    "father_obj = father(\"6 feet\", \"80 kg\")\n",
    "print(father_obj.height)\n",
    "print(father_obj.weight)\n",
    "father_obj.can_work()\n",
    "mother_obj = mother(\"black\")\n",
    "print(mother_obj.hair_color)\n",
    "child_obj = child(15, \"5.5 feet\", \"60 kg\", \"brown\", \"black\")\n",
    "print(child_obj.age)\n",
    "print(child_obj.skin_color)\n",
    "print(child_obj.hair_color)"
   ]
  },
  {
   "cell_type": "markdown",
   "id": "eee45f37",
   "metadata": {},
   "source": [
    "- overriding\n"
   ]
  },
  {
   "cell_type": "code",
   "execution_count": 29,
   "id": "72937081",
   "metadata": {},
   "outputs": [],
   "source": [
    "class animale():\n",
    "\n",
    "    def eating(self):\n",
    "        print(\"animale can eat\")\n",
    "\n",
    "class birds(animale):\n",
    "    def eating(self):\n",
    "        print(\"birds can eat seeds\")\n"
   ]
  },
  {
   "cell_type": "code",
   "execution_count": 39,
   "id": "7819bc90",
   "metadata": {},
   "outputs": [
    {
     "name": "stdout",
     "output_type": "stream",
     "text": [
      "animale can eat\n"
     ]
    }
   ],
   "source": [
    "ani_obj = animale()\n",
    "ani_obj.eating()"
   ]
  },
  {
   "cell_type": "markdown",
   "id": "bc6312df",
   "metadata": {},
   "source": [
    "- overloading\n"
   ]
  },
  {
   "cell_type": "code",
   "execution_count": 46,
   "id": "3e9687de",
   "metadata": {},
   "outputs": [],
   "source": [
    "from typing import overload\n",
    "\n",
    "class adding():\n",
    "    @overload   \n",
    "    def add(self , a:int , b:int) -> int:\n",
    "        ...\n",
    "    \n",
    "    @overload\n",
    "    def add(self , a:float , b:float) -> float:\n",
    "        ...\n",
    "    \n",
    "    @overload\n",
    "    def add(self , a:str , b:str) -> int:\n",
    "        ...\n",
    "    \n",
    "    def add(self , a , b):\n",
    "        if isinstance(a, int) and isinstance(b, int):\n",
    "            return a + b\n",
    "        elif isinstance(a, float) and isinstance(b, float):\n",
    "            return a + b\n",
    "        elif isinstance(a, str) and isinstance(b, str):\n",
    "            return a + b\n",
    "        else:\n",
    "            print('error')"
   ]
  },
  {
   "cell_type": "code",
   "execution_count": 51,
   "id": "cc3968a5",
   "metadata": {},
   "outputs": [
    {
     "name": "stdout",
     "output_type": "stream",
     "text": [
      "10\n",
      "6.0\n",
      "Hello World\n"
     ]
    }
   ],
   "source": [
    "add_obj = adding()\n",
    "print(add_obj.add(2,8))\n",
    "print(add_obj.add(2.5,3.5))\n",
    "print(add_obj.add(\"Hello \",\"World\"))"
   ]
  },
  {
   "cell_type": "markdown",
   "id": "8d415c13",
   "metadata": {},
   "source": [
    "ASSIGMENT # 6\n"
   ]
  },
  {
   "cell_type": "code",
   "execution_count": null,
   "id": "7926f6bb",
   "metadata": {},
   "outputs": [],
   "source": [
    "\n",
    "#Write a Python program to create a class representing a Circle. Include methods to calculate its area and perimeter\n",
    "\n",
    "\n"
   ]
  }
 ],
 "metadata": {
  "kernelspec": {
   "display_name": "base",
   "language": "python",
   "name": "python3"
  },
  "language_info": {
   "codemirror_mode": {
    "name": "ipython",
    "version": 3
   },
   "file_extension": ".py",
   "mimetype": "text/x-python",
   "name": "python",
   "nbconvert_exporter": "python",
   "pygments_lexer": "ipython3",
   "version": "3.13.5"
  }
 },
 "nbformat": 4,
 "nbformat_minor": 5
}
